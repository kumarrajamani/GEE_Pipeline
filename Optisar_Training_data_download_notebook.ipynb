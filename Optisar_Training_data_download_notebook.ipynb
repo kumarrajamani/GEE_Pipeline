{
 "cells": [
  {
   "cell_type": "code",
   "execution_count": 1,
   "id": "c2abbd3c",
   "metadata": {},
   "outputs": [],
   "source": [
    "import ee\n",
    "import time\n",
    "ee.Initialize()"
   ]
  },
  {
   "cell_type": "code",
   "execution_count": 2,
   "id": "271c560e",
   "metadata": {},
   "outputs": [],
   "source": [
    "# input lat lon\n",
    "geometry2 = ee.Geometry.Point([74.61466571723521, 16.42989240050897])\n",
    "AOI = geometry2"
   ]
  },
  {
   "cell_type": "code",
   "execution_count": 3,
   "id": "421e696d",
   "metadata": {},
   "outputs": [],
   "source": [
    "# input start date\n",
    "START_DATE = ee.Date('2021-06-01')\n",
    "END_DATE = START_DATE.advance(1,'month')\n",
    "\n",
    "CLOUD_FILTER = 100\n",
    "CLD_PRB_THRESH = 50\n",
    "NIR_DRK_THRESH = 0.15\n",
    "CLD_PRJ_DIST = 1\n",
    "BUFFER = 50\n",
    "aoi = AOI.buffer(6400).bounds()\n"
   ]
  },
  {
   "cell_type": "code",
   "execution_count": 4,
   "id": "5334da2e",
   "metadata": {},
   "outputs": [],
   "source": [
    "def get_s2_sr_cld_col(aoi, start_date, end_date):\n",
    "    \"\"\" Import and filter S2 SR. Import and filter s2cloudless.\n",
    "    Join the filtered s2cloudless collection to the SR collection by the 'system:index' property.\n",
    "    Import and filter S2 SR \"\"\"\n",
    "    s2_sr_col = (ee.ImageCollection('COPERNICUS/S2_SR_HARMONIZED')\n",
    "                 .filterBounds(aoi)\n",
    "                 .filterDate(start_date, end_date)\n",
    "                 .filter(ee.Filter.lte('CLOUDY_PIXEL_PERCENTAGE', CLOUD_FILTER)))\n",
    "    s2_cloudless_col = (ee.ImageCollection('COPERNICUS/S2_CLOUD_PROBABILITY')\n",
    "                        .filterBounds(aoi)\n",
    "                        .filterDate(start_date, end_date))\n",
    "    return ee.ImageCollection(ee.Join.saveFirst('s2cloudless').apply(**{\n",
    "        'primary': s2_sr_col,\n",
    "        'secondary': s2_cloudless_col,\n",
    "        'condition': ee.Filter.equals(**{\n",
    "            'leftField': 'system:index',\n",
    "            'rightField': 'system:index'\n",
    "        })\n",
    "    }))\n",
    "\n",
    "def add_cloud_bands(img):\n",
    "    \"\"\" Get s2cloudless image, subset the probability band.\n",
    "    Condition s2cloudless by the probability threshold value.\n",
    "    Add the cloud probability layer and cloud mask as image bands. \"\"\"\n",
    "    cld_prb = ee.Image(img.get('s2cloudless')).select('probability')\n",
    "    is_cloud = cld_prb.gt(CLD_PRB_THRESH).rename('clouds')\n",
    "    return img.addBands(ee.Image([cld_prb, is_cloud]))\n",
    "\n",
    "# SHADOW COMPONENTS\n",
    "def add_shadow_bands(img):\n",
    "    # Identify water pixels from the SCL band.\n",
    "    not_water = img.select('SCL').neq(6)\n",
    "    # not_water = img.normalizedDifference(['B3', 'B8']).lt(0.2) # Use this if you are using the TOA version\n",
    "    # Identify dark NIR pixels that are not water (potential cloud shadow pixels).\n",
    "    SR_BAND_SCALE = 1e4\n",
    "    dark_pixels = img.select('B8').lt(NIR_DRK_THRESH*SR_BAND_SCALE).multiply(not_water).rename('dark_pixels')\n",
    "    # Determine the direction to project cloud shadow from clouds (assumes UTM projection).\n",
    "    shadow_azimuth = ee.Number(90).subtract(ee.Number(img.get('MEAN_SOLAR_AZIMUTH_ANGLE')))\n",
    "    # Project shadows from clouds for the distance specified by the CLD_PRJ_DIST input.\n",
    "    cld_proj = (img.select('clouds').directionalDistanceTransform(shadow_azimuth, CLD_PRJ_DIST * 10)\n",
    "                    .reproject(**{'crs': img.select(0).projection(), 'scale': 100})\n",
    "                    .select('distance')\n",
    "                    .mask()\n",
    "                    .rename('cloud_transform'))\n",
    "    # Identify the intersection of dark pixels with cloud shadow projection.\n",
    "    shadows = cld_proj.multiply(dark_pixels).rename('shadows')\n",
    "    # Add dark pixels, cloud projection, and identified shadows as image bands.\n",
    "    return img.addBands(ee.Image([dark_pixels, cld_proj, shadows]))\n",
    "\n",
    "def add_cld_shdw_mask(img):\n",
    "    # Add cloud component bands.\n",
    "    img_cloud = add_cloud_bands(img)\n",
    "    # Add cloud shadow component bands.\n",
    "    img_cloud_shadow = add_shadow_bands(img_cloud)\n",
    "\n",
    "    # Combine cloud and shadow mask, set cloud and shadow as value 1, else 0.\n",
    "    is_cld_shdw = img_cloud_shadow.select('clouds').add(img_cloud_shadow.select('shadows')).gt(0)\n",
    "\n",
    "    # Remove small cloud-shadow patches and dilate remaining pixels by BUFFER input.\n",
    "    # 20 m scale is for speed, and assumes clouds don't require 10 m precision.\n",
    "    is_cld_shdw = (is_cld_shdw.focal_min(2).focal_max(BUFFER * 2 / 20)\n",
    "                       .reproject(**{'crs': img.select([0]).projection(), 'scale': 20})\n",
    "                       .rename('cloudmask'))\n",
    "    # Add the final cloud-shadow mask to the image.\n",
    "    return img_cloud_shadow.addBands(is_cld_shdw)\n",
    "\n"
   ]
  },
  {
   "cell_type": "code",
   "execution_count": 5,
   "id": "e796be27",
   "metadata": {},
   "outputs": [],
   "source": [
    "def addNDVI(image):\n",
    "    return image.addBands(image.normalizedDifference(['B8', 'B4']))"
   ]
  },
  {
   "cell_type": "code",
   "execution_count": 6,
   "id": "d192bdd6",
   "metadata": {},
   "outputs": [],
   "source": [
    "\n",
    "# ==============================MIN and MAX cloudy image========================\n",
    "s2_sr_cld_col_eval = get_s2_sr_cld_col(AOI, START_DATE, END_DATE).sort('CLOUD_COVERAGE_ASSESSMENT',True)\n",
    "s2_cloud_image_collection = s2_sr_cld_col_eval.map(add_cld_shdw_mask).map(addNDVI)\n",
    "image_ids = s2_cloud_image_collection.aggregate_array('system:id')\n",
    "image_ids_list = image_ids.getInfo()\n",
    "# print(image_ids_list)\n",
    "# print(image_ids_list[0])\n",
    "# print(image_ids_list[-1])"
   ]
  },
  {
   "cell_type": "code",
   "execution_count": 7,
   "id": "917cc2f7",
   "metadata": {},
   "outputs": [
    {
     "name": "stdout",
     "output_type": "stream",
     "text": [
      "2021-06-03 min_cloudy_image_date\n",
      "2021-06-23 max_cloudy_image_date\n"
     ]
    }
   ],
   "source": [
    "# get 1st image in collection which is the min cloud image\n",
    "cloud_free_image = s2_cloud_image_collection.filter(ee.Filter.eq('system:id', image_ids_list[0])).first()\n",
    "cloud_free_image_date = ee.Date(cloud_free_image.get('system:time_start')).format('YYYY-MM-dd').getInfo()\n",
    "\n",
    "#get laste image in the collection which is the max cloud image\n",
    "cloudy_image = s2_cloud_image_collection.filter(ee.Filter.eq('system:id', image_ids_list[-1])).first()\n",
    "cloudy_image_date = ee.Date(cloudy_image.get('system:time_start')).format('YYYY-MM-dd').getInfo()\n",
    "\n",
    "print(cloud_free_image_date,'min_cloudy_image_date')\n",
    "print(cloudy_image_date,'max_cloudy_image_date')"
   ]
  },
  {
   "cell_type": "code",
   "execution_count": 8,
   "id": "823095c8",
   "metadata": {},
   "outputs": [],
   "source": [
    "# Get corresponding S1 images\n",
    "s1_start_date_cloudy = ee.Date(cloudy_image_date)\n",
    "s1_end_date_cloudy = s1_start_date_cloudy.advance(12,'day')\n",
    "\n",
    "s1_start_date_cloud_free = ee.Date(cloud_free_image_date)\n",
    "s1_end_date_cloud_free = s1_start_date_cloud_free.advance(12,'day')\n",
    "\n",
    "vh = ee.ImageCollection('COPERNICUS/S1_GRD')\\\n",
    ".filterDate(s1_start_date_cloud_free,s1_end_date_cloud_free) \\\n",
    ".filterBounds(aoi) \\\n",
    ".filter(ee.Filter.eq('orbitProperties_pass', 'DESCENDING')) \\\n",
    ".filter(ee.Filter.eq('instrumentMode', 'IW')) \\\n",
    ".max() \\\n",
    ".clip(aoi) \\\n",
    ".select(['VH','VV'])"
   ]
  },
  {
   "cell_type": "code",
   "execution_count": 9,
   "id": "320d39d1",
   "metadata": {},
   "outputs": [],
   "source": [
    "select_bands = ['B2','B3','B4','B5','B8','nd','clouds','shadows','VH','VV' ]\n",
    "img = cloud_free_image.clip(aoi)\n",
    "stacked_image = img.addBands(vh)\n",
    "stacked_image = stacked_image.select(select_bands).reproject(**{'crs': 'EPSG:4326', 'scale': 10}).toFloat()"
   ]
  },
  {
   "cell_type": "code",
   "execution_count": 10,
   "id": "f595da78",
   "metadata": {},
   "outputs": [],
   "source": [
    "# provide relavent g-drive folder name and task name\n",
    "folder_name = 'OptiSAR_s2cloudless_trial'\n",
    "description = 'OptiSAR_s2cloudless_trial'"
   ]
  },
  {
   "cell_type": "code",
   "execution_count": 11,
   "id": "1c111a92",
   "metadata": {},
   "outputs": [],
   "source": [
    "task_config = {\n",
    "    'image': stacked_image,\n",
    "    'description': description,\n",
    "    'folder': folder_name,\n",
    "    'scale': 10,\n",
    "    'fileDimensions': 256,\n",
    "    'region': aoi,\n",
    "    'crs': 'EPSG:4326',\n",
    "}"
   ]
  },
  {
   "cell_type": "code",
   "execution_count": 12,
   "id": "385ff723",
   "metadata": {},
   "outputs": [
    {
     "name": "stdout",
     "output_type": "stream",
     "text": [
      "started export for OptiSAR_s2cloudless_trial\n",
      "running for 1 minutes\n",
      "running for 2 minutes\n",
      "extraction completed...sleeping 10 sec\n"
     ]
    }
   ],
   "source": [
    "task = ee.batch.Export.image.toDrive(**task_config)\n",
    "task.start()\n",
    "print('started export for ' + task_config['description'])\n",
    "# evaluate task every minute for n minutes\n",
    "for n in range(1, 300):\n",
    "    print('running for ' + str(n) + ' minutes')\n",
    "    time.sleep(60)\n",
    "    status = task.status()\n",
    "    # if still running, do another loop\n",
    "    if status['state'] == 'RUNNING':\n",
    "        pass\n",
    "    # if completed, do another loop\n",
    "    elif status['state'] == 'COMPLETED':\n",
    "        print('extraction completed...sleeping 10 sec')\n",
    "        time.sleep(10)\n",
    "        break\n",
    "    elif status['state'] == 'FAILED':\n",
    "        print('Extraction failed with status: ' + status['error_message'])\n",
    "        break\n",
    "    else:\n",
    "        print(\"Extraction ran out of time, probably something went wrong.\")\n",
    "        print(status['state'])\n",
    "        pass\n",
    "\n"
   ]
  },
  {
   "cell_type": "code",
   "execution_count": 13,
   "id": "0a60b8ab-8f83-4042-a94c-236fca5cb8e7",
   "metadata": {},
   "outputs": [
    {
     "data": {
      "text/plain": [
       "{'state': 'COMPLETED',\n",
       " 'description': 'OptiSAR_s2cloudless_trial',\n",
       " 'priority': 100,\n",
       " 'creation_timestamp_ms': 1714714094284,\n",
       " 'update_timestamp_ms': 1714714201387,\n",
       " 'start_timestamp_ms': 1714714100832,\n",
       " 'task_type': 'EXPORT_IMAGE',\n",
       " 'destination_uris': ['https://drive.google.com/#folders/1qRovxmlFCR4Q2BDuylI9HlFC0-U2mZNm'],\n",
       " 'attempt': 1,\n",
       " 'batch_eecu_usage_seconds': 21.82686996459961,\n",
       " 'id': 'JWCFWGM2TFIFVUKIQJN2DEXQ',\n",
       " 'name': 'projects/earthengine-legacy/operations/JWCFWGM2TFIFVUKIQJN2DEXQ'}"
      ]
     },
     "execution_count": 13,
     "metadata": {},
     "output_type": "execute_result"
    }
   ],
   "source": [
    "task.status()"
   ]
  },
  {
   "cell_type": "code",
   "execution_count": null,
   "id": "9214b07f-4b7e-4e56-a60b-cf6e47f8cd1d",
   "metadata": {},
   "outputs": [],
   "source": []
  }
 ],
 "metadata": {
  "kernelspec": {
   "display_name": "Python 3 (ipykernel)",
   "language": "python",
   "name": "python3"
  },
  "language_info": {
   "codemirror_mode": {
    "name": "ipython",
    "version": 3
   },
   "file_extension": ".py",
   "mimetype": "text/x-python",
   "name": "python",
   "nbconvert_exporter": "python",
   "pygments_lexer": "ipython3",
   "version": "3.11.0"
  }
 },
 "nbformat": 4,
 "nbformat_minor": 5
}
