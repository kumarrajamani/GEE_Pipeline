{
 "cells": [
  {
   "cell_type": "code",
   "execution_count": 1,
   "id": "937e4305-54ca-42a1-aa25-4d8b21778226",
   "metadata": {},
   "outputs": [],
   "source": [
    "import ee\n",
    "import geopandas as gpd\n",
    "from raster_classes.EERasterBuilder import EERasterBuilder\n",
    "from raster_classes.S2CompositeRaster import S2CompositeRaster\n",
    "from raster_classes.S2index import S2index\n",
    "from raster_classes.FeatureExtraction import FeatureExtraction\n",
    "import pandas as pd\n",
    "\n",
    "import time\n",
    "import logging\n",
    "import os"
   ]
  },
  {
   "cell_type": "code",
   "execution_count": 2,
   "id": "5d6115ff-30c1-44ee-ba19-944df60535cf",
   "metadata": {},
   "outputs": [],
   "source": [
    "def init_log(fn_name):\n",
    "    # Create logger\n",
    "    logger = logging.getLogger(__name__)\n",
    "    logger.setLevel(logging.INFO)\n",
    "\n",
    "    # Create console handler and set level to INFO\n",
    "    ch = logging.StreamHandler()\n",
    "    ch.setLevel(logging.INFO)\n",
    "\n",
    "    # Create file handler and set level to INFO\n",
    "    fh = logging.FileHandler(fn_name)\n",
    "    fh.setLevel(logging.INFO)\n",
    "\n",
    "    # Create formatter\n",
    "    formatter = logging.Formatter('%(asctime)s - %(levelname)s - %(message)s')\n",
    "\n",
    "    # Add formatter to handlers\n",
    "    ch.setFormatter(formatter)\n",
    "    fh.setFormatter(formatter)\n",
    "\n",
    "    # Add handlers to logger\n",
    "    logger.addHandler(ch)\n",
    "    logger.addHandler(fh)\n",
    "\n",
    "    logger.propagate = False\n",
    "    return logger"
   ]
  },
  {
   "cell_type": "code",
   "execution_count": 3,
   "id": "68700431-9cc3-4c5e-a29e-c89c60e96384",
   "metadata": {},
   "outputs": [],
   "source": [
    "def create_directory(directory_name):\n",
    "    current_dir = os.getcwd()  # get the current working directory\n",
    "    new_dir_path = os.path.join(current_dir, directory_name)  # create the full path for the new directory\n",
    "    if not os.path.exists(new_dir_path):\n",
    "        os.makedirs(new_dir_path)"
   ]
  },
  {
   "cell_type": "code",
   "execution_count": 4,
   "id": "3f0911aa-90b4-421b-bc58-79f45656aa72",
   "metadata": {},
   "outputs": [],
   "source": [
    "def get_date_list(start_date, end_date, time_window):\n",
    "    \"\"\"\n",
    "    To get list of start and dates for the given date ranges\n",
    "    :param start_date: '2021-01-01'\n",
    "    :param end_date: '2022-01-01'\n",
    "    :param time_window: 30\n",
    "    :return: start_date_li, end_date_li\n",
    "    \"\"\"\n",
    "    freq = str(time_window)+'D'\n",
    "    df = pd.DataFrame({'start_date': pd.date_range(start=start_date, end=end_date, freq=freq)})\n",
    "    df['end_date'] = df['start_date'] + pd.Timedelta(days=time_window)\n",
    "    df = df[(df['end_date'] <= end_date)]\n",
    "    start_li = list(df.start_date.apply(lambda x: x.strftime('%Y-%m-%d')).astype(str))\n",
    "    end_li = list(df.end_date.apply(lambda x: x.strftime('%Y-%m-%d')).astype(str))\n",
    "    return start_li, end_li\n"
   ]
  },
  {
   "cell_type": "code",
   "execution_count": 5,
   "id": "51b9a244-5b2a-4201-ad03-1a8871e62875",
   "metadata": {},
   "outputs": [],
   "source": [
    "# ee.Authenticate()"
   ]
  },
  {
   "cell_type": "code",
   "execution_count": 6,
   "id": "bce38995-d825-4ce3-bd37-48f363587786",
   "metadata": {},
   "outputs": [
    {
     "data": {
      "text/plain": [
       "True"
      ]
     },
     "execution_count": 6,
     "metadata": {},
     "output_type": "execute_result"
    }
   ],
   "source": [
    "import ee\n",
    "\n",
    "ee.Authenticate()  # Initiate authentication\n",
    "\n",
    "# Rest of your Earth Engine code using ee\n"
   ]
  },
  {
   "cell_type": "code",
   "execution_count": null,
   "id": "1bd69f7c-1589-4745-8367-4d055a5ebc88",
   "metadata": {},
   "outputs": [
    {
     "name": "stderr",
     "output_type": "stream",
     "text": [
      "2024-04-30 13:30:28,324 - INFO - No. of raster classes: 36\n",
      "2024-04-30 13:30:28,658 - INFO - State list: ['bihar', 'kerala', 'orissa', 'punjab', 'gujarat', 'haryana', 'jharkhand', 'karnataka', 'meghalaya', 'rajasthan', 'tamilnadu', 'telangana', 'westbengal', 'chattisgarh', 'maharashtra', 'uttarpradesh', 'andhrapradesh', 'madhyapradesh', 'arunachalpradesh']\n",
      "2024-04-30 13:30:28,659 - INFO - Downloading for bihar\n",
      "2024-04-30 13:30:29,179 - INFO - Total no.of plots in bihar: 11291\n",
      "2024-04-30 13:30:29,180 - INFO - output file name: bihar_2018_500.csv\n",
      "2024-04-30 13:31:13,034 - INFO - Processing time for bihar_2018_500_t0 is 0.7309050559997559 min\n",
      "2024-04-30 13:33:11,749 - INFO - Processing time for bihar_2018_500_t1 is 1.9785545706748962 min\n",
      "2024-04-30 13:35:11,424 - INFO - Processing time for bihar_2018_500_t2 is 1.9945746024449666 min\n",
      "2024-04-30 13:36:50,870 - INFO - Processing time for bihar_2018_500_t3 is 1.6574248592058818 min\n",
      "2024-04-30 13:37:48,819 - INFO - Processing time for bihar_2018_500_t4 is 0.9658093690872193 min\n",
      "2024-04-30 13:38:44,135 - INFO - Processing time for bihar_2018_500_t5 is 0.9219220042228699 min\n",
      "2024-04-30 13:39:38,341 - INFO - Processing time for bihar_2018_500_t6 is 0.9034143447875976 min\n",
      "2024-04-30 13:40:33,654 - INFO - Processing time for bihar_2018_500_t7 is 0.9218725721041362 min\n",
      "2024-04-30 13:41:22,254 - INFO - Processing time for bihar_2018_500_t8 is 0.8099933505058289 min\n",
      "2024-04-30 13:42:07,129 - INFO - Processing time for bihar_2018_500_t9 is 0.7478998700777689 min\n",
      "2024-04-30 13:42:45,674 - INFO - Processing time for bihar_2018_500_t10 is 0.6424028118451436 min\n",
      "2024-04-30 13:43:29,187 - INFO - Processing time for bihar_2018_500_t11 is 0.7252177317937215 min\n",
      "2024-04-30 13:44:17,400 - INFO - Processing time for bihar_2018_500_t12 is 0.8035306493441264 min\n",
      "2024-04-30 13:45:13,188 - INFO - Processing time for bihar_2018_500_t13 is 0.929800522327423 min\n",
      "2024-04-30 13:45:54,010 - INFO - Processing time for bihar_2018_500_t14 is 0.6803529977798461 min\n",
      "2024-04-30 13:46:13,630 - INFO - Processing time for bihar_2018_500_t15 is 0.3269819180170695 min\n"
     ]
    }
   ],
   "source": [
    "year_li = [2018]\n",
    "for i in year_li:\n",
    "    if __name__ == '__main__':\n",
    "        logger = init_log(str(i) + '_log.txt')\n",
    "        create_directory(str(i))\n",
    "        start_date = str(i)+'-09-01'\n",
    "        end_date = str(i+1)+'-09-01'\n",
    "        ee.Initialize()\n",
    "        _start_time = time.time()\n",
    "        time_window = 20\n",
    "        asset_path = 'users/janardanroy/MNCFC_23/IND_RABI_17_18_19_UPDATED'\n",
    "        start_date_list, end_date_list = get_date_list(start_date, end_date, time_window)\n",
    "        bands = ['B2','B3','B4','B5','B6','B7','B8','B8A','B11','B12']\n",
    "\n",
    "        for start, end in zip(start_date_list, end_date_list):\n",
    "            s2 = S2CompositeRaster(start=start, end=end,\n",
    "                              bands=bands,\n",
    "                              cloud_filter=100,\n",
    "                              cloudThresh=20)\n",
    "\n",
    "            s2_indices = S2index(s2rc=s2, index=['NDVI', 'NDRE', 'LSWI', 'GCVI', 'SAVI', 'BSI'])\n",
    "\n",
    "        rcls_list = EERasterBuilder().instance_list\n",
    "        logger.info('No. of raster classes: %s', len(rcls_list))\n",
    "\n",
    "        fc = ee.FeatureCollection(asset_path)\n",
    "        fc_yr = fc.filter(ee.Filter.eq('sowing_yea', i))\n",
    "        reg_li = fc_yr.aggregate_array('state').distinct().getInfo()\n",
    "        # reg_li = ['andhrapradesh', 'bihar', 'gujarat',\n",
    "        #           'haryana', 'jharkhand', 'karnataka', 'kerala',\n",
    "        #           'madhyapradesh', 'maharashtra', 'punjab', 'rajasthan',\n",
    "        #           'tamilnadu', 'telangana', 'uttarpradesh', 'westbengal']\n",
    "\n",
    "        logger.info('State list: %s', reg_li)\n",
    "\n",
    "        for reg in reg_li:\n",
    "            logger.info('Downloading for %s', reg)\n",
    "            reg_fc = fc_yr.filter(ee.Filter.eq('state', reg)).sort('district')\n",
    "            collection_size = reg_fc.size().getInfo()\n",
    "            logger.info('Total no.of plots in {}: {}' .format(reg, collection_size))\n",
    "            chunk_size = 500\n",
    "            for chunk in range(0, collection_size, chunk_size):\n",
    "                output_csv_file = reg + str('_') + str(i) + str('_') + str(chunk + chunk_size) + '.csv'\n",
    "                logger.info('output file name: %s', output_csv_file)\n",
    "                loop_start_time = time.time()\n",
    "                subset_col = ee.FeatureCollection(reg_fc.toList(chunk_size, chunk))\n",
    "                fe = FeatureExtraction(fc=subset_col, rc_list=rcls_list, file_name=output_csv_file[0:-4], logger=logger,sampleRegions=reg)\n",
    "                total_df = fe.execute()\n",
    "                total_df.to_csv(str(i)+'/'+output_csv_file)\n",
    "                elapsed_time = time.time() - loop_start_time\n",
    "                logger.info('Time taken to process {} plots is {} min' .format(chunk+chunk_size, elapsed_time / 60))\n",
    "            elapsed_time = time.time() - _start_time\n",
    "            logger.info('Total Processing time (hrs) to complete {}: {}' .format(reg, elapsed_time / 3600))"
   ]
  },
  {
   "cell_type": "code",
   "execution_count": null,
   "id": "64b4ec95-cd6f-452e-a57a-62fc621c5377",
   "metadata": {},
   "outputs": [],
   "source": []
  }
 ],
 "metadata": {
  "kernelspec": {
   "display_name": "Python 3 (ipykernel)",
   "language": "python",
   "name": "python3"
  },
  "language_info": {
   "codemirror_mode": {
    "name": "ipython",
    "version": 3
   },
   "file_extension": ".py",
   "mimetype": "text/x-python",
   "name": "python",
   "nbconvert_exporter": "python",
   "pygments_lexer": "ipython3",
   "version": "3.11.0"
  }
 },
 "nbformat": 4,
 "nbformat_minor": 5
}
