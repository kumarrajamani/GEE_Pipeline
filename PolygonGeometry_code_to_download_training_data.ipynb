{
 "cells": [
  {
   "cell_type": "code",
   "execution_count": 1,
   "id": "5399ee32-4390-43e7-a677-cbf5ce1e4558",
   "metadata": {},
   "outputs": [],
   "source": [
    " import ee\n",
    "import time\n",
    "ee.Initialize()"
   ]
  },
  {
   "cell_type": "code",
   "execution_count": 2,
   "id": "5ce46e65-b647-4a00-97bd-3c4f7570c173",
   "metadata": {},
   "outputs": [],
   "source": [
    "geometry2 = ee.Geometry.Polygon(\n",
    "  [[[75.59985792881425, 14.526591885743592],\n",
    "    [75.59991139162679, 14.526596345918215],\n",
    "    [75.59987125011487, 14.526600779378652],\n",
    "    [75.59985792881425, 14.526591885743592]]]\n",
    ");\n",
    "AOI = geometry2"
   ]
  },
  {
   "cell_type": "code",
   "execution_count": 3,
   "id": "8d3d683b-4a27-4847-bce0-bbf5a9a83e54",
   "metadata": {},
   "outputs": [],
   "source": [
    "START_DATE = ee.Date('2019-01-22')\n",
    "END_DATE = START_DATE.advance(1,'month')\n",
    "\n",
    "CLOUD_FILTER = 100\n",
    "CLD_PRB_THRESH = 50\n",
    "NIR_DRK_THRESH = 0.15\n",
    "CLD_PRJ_DIST = 1\n",
    "BUFFER = 50\n",
    "aoi = AOI.buffer(6400).bounds()"
   ]
  },
  {
   "cell_type": "code",
   "execution_count": 4,
   "id": "ee97b619-bc65-4827-8766-a8723ab56f67",
   "metadata": {},
   "outputs": [],
   "source": [
    "def get_s2_sr_cld_col(aoi, start_date, end_date):\n",
    "    \"\"\" Import and filter S2 SR. Import and filter s2cloudless.\n",
    "    Join the filtered s2cloudless collection to the SR collection by the 'system:index' property.\n",
    "    Import and filter S2 SR \"\"\"\n",
    "    s2_sr_col = (ee.ImageCollection('COPERNICUS/S2_SR_HARMONIZED')\n",
    "                 .filterBounds(aoi)\n",
    "                 .filterDate(start_date, end_date)\n",
    "                 .filter(ee.Filter.lte('CLOUDY_PIXEL_PERCENTAGE', CLOUD_FILTER)))\n",
    "    s2_cloudless_col = (ee.ImageCollection('COPERNICUS/S2_CLOUD_PROBABILITY')\n",
    "                        .filterBounds(aoi)\n",
    "                        .filterDate(start_date, end_date))\n",
    "    return ee.ImageCollection(ee.Join.saveFirst('s2cloudless').apply(**{\n",
    "        'primary': s2_sr_col,\n",
    "        'secondary': s2_cloudless_col,\n",
    "        'condition': ee.Filter.equals(**{\n",
    "            'leftField': 'system:index',\n",
    "            'rightField': 'system:index'\n",
    "        })\n",
    "    }))"
   ]
  },
  {
   "cell_type": "code",
   "execution_count": 5,
   "id": "7d1db673-0d3a-485a-bf68-4513889c01b0",
   "metadata": {},
   "outputs": [],
   "source": [
    "def add_cloud_bands(img):\n",
    "    \"\"\" Get s2cloudless image, subset the probability band.\n",
    "    Condition s2cloudless by the probability threshold value.\n",
    "    Add the cloud probability layer and cloud mask as image bands. \"\"\"\n",
    "    cld_prb = ee.Image(img.get('s2cloudless')).select('probability')\n",
    "    is_cloud = cld_prb.gt(CLD_PRB_THRESH).rename('clouds')\n",
    "    return img.addBands(ee.Image([cld_prb, is_cloud]))"
   ]
  },
  {
   "cell_type": "code",
   "execution_count": 6,
   "id": "d48441f4-6dac-484e-97d9-5175ce77052a",
   "metadata": {},
   "outputs": [],
   "source": [
    "def add_shadow_bands(img):\n",
    "    # Identify water pixels from the SCL band.\n",
    "    not_water = img.select('SCL').neq(6)\n",
    "    # not_water = img.normalizedDifference(['B3', 'B8']).lt(0.2) # Use this if you are using the TOA version\n",
    "    # Identify dark NIR pixels that are not water (potential cloud shadow pixels).\n",
    "    SR_BAND_SCALE = 1e4\n",
    "    dark_pixels = img.select('B8').lt(NIR_DRK_THRESH*SR_BAND_SCALE).multiply(not_water).rename('dark_pixels')\n",
    "    # Determine the direction to project cloud shadow from clouds (assumes UTM projection).\n",
    "    shadow_azimuth = ee.Number(90).subtract(ee.Number(img.get('MEAN_SOLAR_AZIMUTH_ANGLE')))\n",
    "    # Project shadows from clouds for the distance specified by the CLD_PRJ_DIST input.\n",
    "    cld_proj = (img.select('clouds').directionalDistanceTransform(shadow_azimuth, CLD_PRJ_DIST * 10)\n",
    "                    .reproject(**{'crs': img.select(0).projection(), 'scale': 100})\n",
    "                    .select('distance')\n",
    "                    .mask()\n",
    "                    .rename('cloud_transform'))\n",
    "    # Identify the intersection of dark pixels with cloud shadow projection.\n",
    "    shadows = cld_proj.multiply(dark_pixels).rename('shadows')\n",
    "    # Add dark pixels, cloud projection, and identified shadows as image bands.\n",
    "    return img.addBands(ee.Image([dark_pixels, cld_proj, shadows]))"
   ]
  },
  {
   "cell_type": "code",
   "execution_count": 7,
   "id": "58a24bf7-3d1e-4dab-95d2-ba848c857d6e",
   "metadata": {},
   "outputs": [],
   "source": [
    "def add_cld_shdw_mask(img):\n",
    "    # Add cloud component bands.\n",
    "    img_cloud = add_cloud_bands(img)\n",
    "    # Add cloud shadow component bands.\n",
    "    img_cloud_shadow = add_shadow_bands(img_cloud)\n",
    "\n",
    "    # Combine cloud and shadow mask, set cloud and shadow as value 1, else 0.\n",
    "    is_cld_shdw = img_cloud_shadow.select('clouds').add(img_cloud_shadow.select('shadows')).gt(0)\n",
    "\n",
    "    # Remove small cloud-shadow patches and dilate remaining pixels by BUFFER input.\n",
    "    # 20 m scale is for speed, and assumes clouds don't require 10 m precision.\n",
    "    is_cld_shdw = (is_cld_shdw.focal_min(2).focal_max(BUFFER * 2 / 20)\n",
    "                       .reproject(**{'crs': img.select([0]).projection(), 'scale': 20})\n",
    "                       .rename('cloudmask'))\n",
    "    # Add the final cloud-shadow mask to the image.\n",
    "    return img_cloud_shadow.addBands(is_cld_shdw)"
   ]
  },
  {
   "cell_type": "code",
   "execution_count": 8,
   "id": "d5f82eac-9c9a-47dd-a499-0fdea2dbfdbb",
   "metadata": {},
   "outputs": [],
   "source": [
    "def addNDVI(image):\n",
    "    return image.addBands(image.normalizedDifference(['B8', 'B4']))"
   ]
  },
  {
   "cell_type": "code",
   "execution_count": 9,
   "id": "6a556530-d271-4a30-a333-c9f7767fc595",
   "metadata": {},
   "outputs": [],
   "source": [
    "# ==============================MIN and MAX cloudy image========================\n",
    "s2_sr_cld_col_eval = get_s2_sr_cld_col(AOI, START_DATE, END_DATE).sort('CLOUD_COVERAGE_ASSESSMENT',True)\n",
    "s2_cloud_image_collection = s2_sr_cld_col_eval.map(add_cld_shdw_mask).map(addNDVI)\n",
    "image_ids = s2_cloud_image_collection.aggregate_array('system:id')\n",
    "image_ids_list = image_ids.getInfo()\n",
    "#print(image_ids_list)\n",
    "# print(image_ids_list[0])\n",
    "# print(image_ids_list[-1])"
   ]
  },
  {
   "cell_type": "code",
   "execution_count": 10,
   "id": "936c2c96-14e9-4f75-9b37-687a4bc99251",
   "metadata": {},
   "outputs": [
    {
     "name": "stdout",
     "output_type": "stream",
     "text": [
      "2019-02-16 min_cloudy_image_date\n",
      "2019-01-27 max_cloudy_image_date\n"
     ]
    }
   ],
   "source": [
    "# get 1st image in collection which is the min cloud image\n",
    "cloud_free_image = s2_cloud_image_collection.filter(ee.Filter.eq('system:id', image_ids_list[0])).first()\n",
    "cloud_free_image_date = ee.Date(cloud_free_image.get('system:time_start')).format('YYYY-MM-dd').getInfo()\n",
    "\n",
    "#get laste image in the collection which is the max cloud image\n",
    "cloudy_image = s2_cloud_image_collection.filter(ee.Filter.eq('system:id', image_ids_list[-1])).first()\n",
    "cloudy_image_date = ee.Date(cloudy_image.get('system:time_start')).format('YYYY-MM-dd').getInfo()\n",
    "\n",
    "print(cloud_free_image_date,'min_cloudy_image_date')\n",
    "print(cloudy_image_date,'max_cloudy_image_date')"
   ]
  },
  {
   "cell_type": "code",
   "execution_count": 11,
   "id": "85cdb761-c071-4774-8a95-316b0ce4348f",
   "metadata": {},
   "outputs": [],
   "source": [
    "# Get corresponding S1 images\n",
    "s1_start_date_cloudy = ee.Date(cloudy_image_date)\n",
    "s1_end_date_cloudy = s1_start_date_cloudy.advance(12,'day')\n",
    "\n",
    "s1_start_date_cloud_free = ee.Date(cloud_free_image_date)\n",
    "s1_end_date_cloud_free = s1_start_date_cloud_free.advance(12,'day')\n",
    "\n",
    "vh = ee.ImageCollection('COPERNICUS/S1_GRD')\\\n",
    ".filterDate(s1_start_date_cloud_free,s1_end_date_cloud_free) \\\n",
    ".filterBounds(aoi) \\\n",
    ".filter(ee.Filter.eq('orbitProperties_pass', 'DESCENDING')) \\\n",
    ".filter(ee.Filter.eq('instrumentMode', 'IW')) \\\n",
    ".max() \\\n",
    ".clip(aoi) \\\n",
    ".select(['VH','VV'])"
   ]
  },
  {
   "cell_type": "code",
   "execution_count": 12,
   "id": "defafa4e-faf1-42b6-a6f0-39fa8b85d26d",
   "metadata": {},
   "outputs": [],
   "source": [
    "select_bands = ['B2','B3','B4','B5','B8','nd','clouds','shadows','VH','VV' ]\n",
    "img = cloud_free_image.clip(aoi)\n",
    "stacked_image = img.addBands(vh)\n",
    "stacked_image = stacked_image.select(select_bands).reproject(**{'crs': 'EPSG:4326', 'scale': 10}).toFloat()"
   ]
  },
  {
   "cell_type": "code",
   "execution_count": 13,
   "id": "72dddcb4-2013-4c7e-bb81-d48e3f1ad658",
   "metadata": {},
   "outputs": [],
   "source": [
    "# provide relavent g-drive folder name and task name\n",
    "folder_name = 'OptiSAR_Images'\n",
    "description = 'OptiSAR_Images'"
   ]
  },
  {
   "cell_type": "code",
   "execution_count": 14,
   "id": "9a9a74f9-cb66-48b3-b798-cb963a368709",
   "metadata": {},
   "outputs": [],
   "source": [
    "task_config = {\n",
    "    'image': stacked_image,\n",
    "    'description': description,\n",
    "    'folder': folder_name,\n",
    "    'scale': 10,\n",
    "    'fileDimensions': 256,\n",
    "    'region': aoi,\n",
    "    'crs': 'EPSG:4326',\n",
    "}"
   ]
  },
  {
   "cell_type": "code",
   "execution_count": 15,
   "id": "465a38e8-75e8-40aa-a7e5-4d4c82400523",
   "metadata": {},
   "outputs": [
    {
     "name": "stdout",
     "output_type": "stream",
     "text": [
      "started export for OptiSAR_Images\n",
      "running for 1 minutes\n",
      "running for 2 minutes\n",
      "extraction completed...sleeping 10 sec\n"
     ]
    }
   ],
   "source": [
    "task = ee.batch.Export.image.toDrive(**task_config)\n",
    "task.start()\n",
    "print('started export for ' + task_config['description'])\n",
    "# evaluate task every minute for n minutes\n",
    "for n in range(1, 300):\n",
    "    print('running for ' + str(n) + ' minutes')\n",
    "    time.sleep(60)\n",
    "    status = task.status()\n",
    "    # if still running, do another loop\n",
    "    if status['state'] == 'RUNNING':\n",
    "        pass\n",
    "    # if completed, do another loop\n",
    "    elif status['state'] == 'COMPLETED':\n",
    "        print('extraction completed...sleeping 10 sec')\n",
    "        time.sleep(10)\n",
    "        break\n",
    "    elif status['state'] == 'FAILED':\n",
    "        print('Extraction failed with status: ' + status['error_message'])\n",
    "        break\n",
    "    else:\n",
    "        print(\"Extraction ran out of time, probably something went wrong.\")\n",
    "        print(status['state'])\n",
    "        pass\n"
   ]
  },
  {
   "cell_type": "code",
   "execution_count": null,
   "id": "fd3a64fb-8a57-4b9a-aaf6-f8a78fef5c32",
   "metadata": {},
   "outputs": [],
   "source": []
  }
 ],
 "metadata": {
  "kernelspec": {
   "display_name": "Python 3 (ipykernel)",
   "language": "python",
   "name": "python3"
  },
  "language_info": {
   "codemirror_mode": {
    "name": "ipython",
    "version": 3
   },
   "file_extension": ".py",
   "mimetype": "text/x-python",
   "name": "python",
   "nbconvert_exporter": "python",
   "pygments_lexer": "ipython3",
   "version": "3.11.0"
  }
 },
 "nbformat": 4,
 "nbformat_minor": 5
}
